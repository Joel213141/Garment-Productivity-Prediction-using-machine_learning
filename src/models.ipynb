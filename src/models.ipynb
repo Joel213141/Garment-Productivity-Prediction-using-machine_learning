{
 "cells": [
  {
   "cell_type": "code",
   "execution_count": 1,
   "id": "4958679b",
   "metadata": {},
   "outputs": [],
   "source": [
    "from sklearn.linear_model import ElasticNet\n",
    "from sklearn.svm import SVR\n",
    "from sklearn.ensemble import RandomForestRegressor\n",
    "from sklearn.model_selection import GridSearchCV\n",
    "\n",
    "def train_elastic_net(X_train, y_train):\n",
    "    elastic_net = ElasticNet()\n",
    "    param_grid = {'alpha': [0.1, 1.0, 10.0], 'l1_ratio': [0.1, 0.5, 0.9]}\n",
    "    grid_search = GridSearchCV(elastic_net, param_grid, cv=3)\n",
    "    grid_search.fit(X_train, y_train)\n",
    "    return grid_search.best_estimator_\n",
    "\n",
    "def train_svr(X_train, y_train):\n",
    "    svr = SVR(kernel='rbf')\n",
    "    param_grid = {'C': [0.1, 1, 10], 'gamma': [0.1, 1, 10]}\n",
    "    grid_search = GridSearchCV(svr, param_grid, cv=3)\n",
    "    grid_search.fit(X_train, y_train)\n",
    "    return grid_search.best_estimator_\n",
    "\n",
    "def train_random_forest(X_train, y_train):\n",
    "    rf = RandomForestRegressor()\n",
    "    param_grid = {'n_estimators': [50, 100, 150, 200], 'max_depth': range(1, 20)}\n",
    "    grid_search = GridSearchCV(rf, param_grid, cv=5)\n",
    "    grid_search.fit(X_train, y_train)\n",
    "    return grid_search.best_estimator_\n"
   ]
  },
  {
   "cell_type": "code",
   "execution_count": null,
   "id": "b4d7ed0b",
   "metadata": {},
   "outputs": [],
   "source": []
  }
 ],
 "metadata": {
  "kernelspec": {
   "display_name": "Python 3 (ipykernel)",
   "language": "python",
   "name": "python3"
  },
  "language_info": {
   "codemirror_mode": {
    "name": "ipython",
    "version": 3
   },
   "file_extension": ".py",
   "mimetype": "text/x-python",
   "name": "python",
   "nbconvert_exporter": "python",
   "pygments_lexer": "ipython3",
   "version": "3.10.12"
  }
 },
 "nbformat": 4,
 "nbformat_minor": 5
}
