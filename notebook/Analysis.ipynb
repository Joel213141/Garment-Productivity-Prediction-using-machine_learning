{
 "cells": [
  {
   "cell_type": "markdown",
   "id": "b1b2eaac-3d93-46ba-aca2-14fade91b598",
   "metadata": {},
   "source": [
    "## Project Report"
   ]
  },
  {
   "cell_type": "code",
   "execution_count": 211,
   "id": "4fd55cdd-707d-45d7-bf07-ab8b30e9add9",
   "metadata": {},
   "outputs": [],
   "source": [
    "import pandas as pd\n",
    "import numpy as np\n",
    "from matplotlib import pyplot as plt\n",
    "from sklearn import metrics"
   ]
  },
  {
   "cell_type": "code",
   "execution_count": 212,
   "id": "b461ad89-4b2e-4d4f-9dfa-0a3f53275b82",
   "metadata": {},
   "outputs": [
    {
     "data": {
      "text/html": [
       "<div>\n",
       "<style scoped>\n",
       "    .dataframe tbody tr th:only-of-type {\n",
       "        vertical-align: middle;\n",
       "    }\n",
       "\n",
       "    .dataframe tbody tr th {\n",
       "        vertical-align: top;\n",
       "    }\n",
       "\n",
       "    .dataframe thead th {\n",
       "        text-align: right;\n",
       "    }\n",
       "</style>\n",
       "<table border=\"1\" class=\"dataframe\">\n",
       "  <thead>\n",
       "    <tr style=\"text-align: right;\">\n",
       "      <th></th>\n",
       "      <th>date</th>\n",
       "      <th>quarter</th>\n",
       "      <th>department</th>\n",
       "      <th>day</th>\n",
       "      <th>team</th>\n",
       "      <th>targeted_productivity</th>\n",
       "      <th>smv</th>\n",
       "      <th>wip</th>\n",
       "      <th>over_time</th>\n",
       "      <th>incentive</th>\n",
       "      <th>idle_time</th>\n",
       "      <th>idle_men</th>\n",
       "      <th>no_of_style_change</th>\n",
       "      <th>no_of_workers</th>\n",
       "      <th>actual_productivity</th>\n",
       "    </tr>\n",
       "  </thead>\n",
       "  <tbody>\n",
       "    <tr>\n",
       "      <th>0</th>\n",
       "      <td>1/1/2015</td>\n",
       "      <td>Quarter1</td>\n",
       "      <td>sweing</td>\n",
       "      <td>Thursday</td>\n",
       "      <td>8</td>\n",
       "      <td>0.80</td>\n",
       "      <td>26.16</td>\n",
       "      <td>1108.0</td>\n",
       "      <td>7080</td>\n",
       "      <td>98</td>\n",
       "      <td>0.0</td>\n",
       "      <td>0</td>\n",
       "      <td>0</td>\n",
       "      <td>59.0</td>\n",
       "      <td>0.940725</td>\n",
       "    </tr>\n",
       "    <tr>\n",
       "      <th>1</th>\n",
       "      <td>1/1/2015</td>\n",
       "      <td>Quarter1</td>\n",
       "      <td>finishing</td>\n",
       "      <td>Thursday</td>\n",
       "      <td>1</td>\n",
       "      <td>0.75</td>\n",
       "      <td>3.94</td>\n",
       "      <td>NaN</td>\n",
       "      <td>960</td>\n",
       "      <td>0</td>\n",
       "      <td>0.0</td>\n",
       "      <td>0</td>\n",
       "      <td>0</td>\n",
       "      <td>8.0</td>\n",
       "      <td>0.886500</td>\n",
       "    </tr>\n",
       "    <tr>\n",
       "      <th>2</th>\n",
       "      <td>1/1/2015</td>\n",
       "      <td>Quarter1</td>\n",
       "      <td>sweing</td>\n",
       "      <td>Thursday</td>\n",
       "      <td>11</td>\n",
       "      <td>0.80</td>\n",
       "      <td>11.41</td>\n",
       "      <td>968.0</td>\n",
       "      <td>3660</td>\n",
       "      <td>50</td>\n",
       "      <td>0.0</td>\n",
       "      <td>0</td>\n",
       "      <td>0</td>\n",
       "      <td>30.5</td>\n",
       "      <td>0.800570</td>\n",
       "    </tr>\n",
       "    <tr>\n",
       "      <th>3</th>\n",
       "      <td>1/1/2015</td>\n",
       "      <td>Quarter1</td>\n",
       "      <td>sweing</td>\n",
       "      <td>Thursday</td>\n",
       "      <td>12</td>\n",
       "      <td>0.80</td>\n",
       "      <td>11.41</td>\n",
       "      <td>968.0</td>\n",
       "      <td>3660</td>\n",
       "      <td>50</td>\n",
       "      <td>0.0</td>\n",
       "      <td>0</td>\n",
       "      <td>0</td>\n",
       "      <td>30.5</td>\n",
       "      <td>0.800570</td>\n",
       "    </tr>\n",
       "    <tr>\n",
       "      <th>4</th>\n",
       "      <td>1/1/2015</td>\n",
       "      <td>Quarter1</td>\n",
       "      <td>sweing</td>\n",
       "      <td>Thursday</td>\n",
       "      <td>6</td>\n",
       "      <td>0.80</td>\n",
       "      <td>25.90</td>\n",
       "      <td>1170.0</td>\n",
       "      <td>1920</td>\n",
       "      <td>50</td>\n",
       "      <td>0.0</td>\n",
       "      <td>0</td>\n",
       "      <td>0</td>\n",
       "      <td>56.0</td>\n",
       "      <td>0.800382</td>\n",
       "    </tr>\n",
       "    <tr>\n",
       "      <th>...</th>\n",
       "      <td>...</td>\n",
       "      <td>...</td>\n",
       "      <td>...</td>\n",
       "      <td>...</td>\n",
       "      <td>...</td>\n",
       "      <td>...</td>\n",
       "      <td>...</td>\n",
       "      <td>...</td>\n",
       "      <td>...</td>\n",
       "      <td>...</td>\n",
       "      <td>...</td>\n",
       "      <td>...</td>\n",
       "      <td>...</td>\n",
       "      <td>...</td>\n",
       "      <td>...</td>\n",
       "    </tr>\n",
       "    <tr>\n",
       "      <th>1192</th>\n",
       "      <td>3/11/2015</td>\n",
       "      <td>Quarter2</td>\n",
       "      <td>finishing</td>\n",
       "      <td>Wednesday</td>\n",
       "      <td>10</td>\n",
       "      <td>0.75</td>\n",
       "      <td>2.90</td>\n",
       "      <td>NaN</td>\n",
       "      <td>960</td>\n",
       "      <td>0</td>\n",
       "      <td>0.0</td>\n",
       "      <td>0</td>\n",
       "      <td>0</td>\n",
       "      <td>8.0</td>\n",
       "      <td>0.628333</td>\n",
       "    </tr>\n",
       "    <tr>\n",
       "      <th>1193</th>\n",
       "      <td>3/11/2015</td>\n",
       "      <td>Quarter2</td>\n",
       "      <td>finishing</td>\n",
       "      <td>Wednesday</td>\n",
       "      <td>8</td>\n",
       "      <td>0.70</td>\n",
       "      <td>3.90</td>\n",
       "      <td>NaN</td>\n",
       "      <td>960</td>\n",
       "      <td>0</td>\n",
       "      <td>0.0</td>\n",
       "      <td>0</td>\n",
       "      <td>0</td>\n",
       "      <td>8.0</td>\n",
       "      <td>0.625625</td>\n",
       "    </tr>\n",
       "    <tr>\n",
       "      <th>1194</th>\n",
       "      <td>3/11/2015</td>\n",
       "      <td>Quarter2</td>\n",
       "      <td>finishing</td>\n",
       "      <td>Wednesday</td>\n",
       "      <td>7</td>\n",
       "      <td>0.65</td>\n",
       "      <td>3.90</td>\n",
       "      <td>NaN</td>\n",
       "      <td>960</td>\n",
       "      <td>0</td>\n",
       "      <td>0.0</td>\n",
       "      <td>0</td>\n",
       "      <td>0</td>\n",
       "      <td>8.0</td>\n",
       "      <td>0.625625</td>\n",
       "    </tr>\n",
       "    <tr>\n",
       "      <th>1195</th>\n",
       "      <td>3/11/2015</td>\n",
       "      <td>Quarter2</td>\n",
       "      <td>finishing</td>\n",
       "      <td>Wednesday</td>\n",
       "      <td>9</td>\n",
       "      <td>0.75</td>\n",
       "      <td>2.90</td>\n",
       "      <td>NaN</td>\n",
       "      <td>1800</td>\n",
       "      <td>0</td>\n",
       "      <td>0.0</td>\n",
       "      <td>0</td>\n",
       "      <td>0</td>\n",
       "      <td>15.0</td>\n",
       "      <td>0.505889</td>\n",
       "    </tr>\n",
       "    <tr>\n",
       "      <th>1196</th>\n",
       "      <td>3/11/2015</td>\n",
       "      <td>Quarter2</td>\n",
       "      <td>finishing</td>\n",
       "      <td>Wednesday</td>\n",
       "      <td>6</td>\n",
       "      <td>0.70</td>\n",
       "      <td>2.90</td>\n",
       "      <td>NaN</td>\n",
       "      <td>720</td>\n",
       "      <td>0</td>\n",
       "      <td>0.0</td>\n",
       "      <td>0</td>\n",
       "      <td>0</td>\n",
       "      <td>6.0</td>\n",
       "      <td>0.394722</td>\n",
       "    </tr>\n",
       "  </tbody>\n",
       "</table>\n",
       "<p>1197 rows × 15 columns</p>\n",
       "</div>"
      ],
      "text/plain": [
       "           date   quarter  department        day  team  targeted_productivity  \\\n",
       "0      1/1/2015  Quarter1      sweing   Thursday     8                   0.80   \n",
       "1      1/1/2015  Quarter1  finishing    Thursday     1                   0.75   \n",
       "2      1/1/2015  Quarter1      sweing   Thursday    11                   0.80   \n",
       "3      1/1/2015  Quarter1      sweing   Thursday    12                   0.80   \n",
       "4      1/1/2015  Quarter1      sweing   Thursday     6                   0.80   \n",
       "...         ...       ...         ...        ...   ...                    ...   \n",
       "1192  3/11/2015  Quarter2   finishing  Wednesday    10                   0.75   \n",
       "1193  3/11/2015  Quarter2   finishing  Wednesday     8                   0.70   \n",
       "1194  3/11/2015  Quarter2   finishing  Wednesday     7                   0.65   \n",
       "1195  3/11/2015  Quarter2   finishing  Wednesday     9                   0.75   \n",
       "1196  3/11/2015  Quarter2   finishing  Wednesday     6                   0.70   \n",
       "\n",
       "        smv     wip  over_time  incentive  idle_time  idle_men  \\\n",
       "0     26.16  1108.0       7080         98        0.0         0   \n",
       "1      3.94     NaN        960          0        0.0         0   \n",
       "2     11.41   968.0       3660         50        0.0         0   \n",
       "3     11.41   968.0       3660         50        0.0         0   \n",
       "4     25.90  1170.0       1920         50        0.0         0   \n",
       "...     ...     ...        ...        ...        ...       ...   \n",
       "1192   2.90     NaN        960          0        0.0         0   \n",
       "1193   3.90     NaN        960          0        0.0         0   \n",
       "1194   3.90     NaN        960          0        0.0         0   \n",
       "1195   2.90     NaN       1800          0        0.0         0   \n",
       "1196   2.90     NaN        720          0        0.0         0   \n",
       "\n",
       "      no_of_style_change  no_of_workers  actual_productivity  \n",
       "0                      0           59.0             0.940725  \n",
       "1                      0            8.0             0.886500  \n",
       "2                      0           30.5             0.800570  \n",
       "3                      0           30.5             0.800570  \n",
       "4                      0           56.0             0.800382  \n",
       "...                  ...            ...                  ...  \n",
       "1192                   0            8.0             0.628333  \n",
       "1193                   0            8.0             0.625625  \n",
       "1194                   0            8.0             0.625625  \n",
       "1195                   0           15.0             0.505889  \n",
       "1196                   0            6.0             0.394722  \n",
       "\n",
       "[1197 rows x 15 columns]"
      ]
     },
     "execution_count": 212,
     "metadata": {},
     "output_type": "execute_result"
    }
   ],
   "source": [
    "#importing data \n",
    "df=pd.read_csv(r\"C:\\Users\\User\\Desktop\\Class Folder\\720\\garments_worker_productivity.csv\")\n",
    "df"
   ]
  },
  {
   "cell_type": "code",
   "execution_count": 213,
   "id": "a97ec5c6-22d4-43cd-9d27-2de21c7adae3",
   "metadata": {},
   "outputs": [
    {
     "name": "stderr",
     "output_type": "stream",
     "text": [
      "C:\\Users\\User\\AppData\\Local\\Temp\\ipykernel_5560\\3731060751.py:2: FutureWarning: The default value of numeric_only in DataFrame.mean is deprecated. In a future version, it will default to False. In addition, specifying 'numeric_only=None' is deprecated. Select only valid columns or specify the value of numeric_only to silence this warning.\n",
      "  df=df.fillna(df.mean())\n"
     ]
    },
    {
     "data": {
      "text/plain": [
       "date                     0\n",
       "quarter                  0\n",
       "department               0\n",
       "day                      0\n",
       "team                     0\n",
       "targeted_productivity    0\n",
       "smv                      0\n",
       "wip                      0\n",
       "over_time                0\n",
       "incentive                0\n",
       "idle_time                0\n",
       "idle_men                 0\n",
       "no_of_style_change       0\n",
       "no_of_workers            0\n",
       "actual_productivity      0\n",
       "dtype: int64"
      ]
     },
     "execution_count": 213,
     "metadata": {},
     "output_type": "execute_result"
    }
   ],
   "source": [
    "# Filling any missing entries with the mean of that feature in each feature\n",
    "df=df.fillna(df.mean())\n",
    "df.isnull().sum()"
   ]
  },
  {
   "cell_type": "markdown",
   "id": "6431f604-98f9-4658-a32b-10707d049811",
   "metadata": {},
   "source": [
    "I've chosen to fill missing entries as this would affect fitting the model to the dataset."
   ]
  },
  {
   "cell_type": "code",
   "execution_count": 214,
   "id": "5830cb79-2476-4607-a7c2-d3034585ebec",
   "metadata": {},
   "outputs": [
    {
     "name": "stdout",
     "output_type": "stream",
     "text": [
      "<class 'pandas.core.frame.DataFrame'>\n",
      "RangeIndex: 1197 entries, 0 to 1196\n",
      "Data columns (total 15 columns):\n",
      " #   Column                 Non-Null Count  Dtype  \n",
      "---  ------                 --------------  -----  \n",
      " 0   date                   1197 non-null   object \n",
      " 1   quarter                1197 non-null   object \n",
      " 2   department             1197 non-null   object \n",
      " 3   day                    1197 non-null   object \n",
      " 4   team                   1197 non-null   int64  \n",
      " 5   targeted_productivity  1197 non-null   float64\n",
      " 6   smv                    1197 non-null   float64\n",
      " 7   wip                    1197 non-null   float64\n",
      " 8   over_time              1197 non-null   int64  \n",
      " 9   incentive              1197 non-null   int64  \n",
      " 10  idle_time              1197 non-null   float64\n",
      " 11  idle_men               1197 non-null   int64  \n",
      " 12  no_of_style_change     1197 non-null   int64  \n",
      " 13  no_of_workers          1197 non-null   float64\n",
      " 14  actual_productivity    1197 non-null   float64\n",
      "dtypes: float64(6), int64(5), object(4)\n",
      "memory usage: 140.4+ KB\n"
     ]
    }
   ],
   "source": [
    "# Retrieving meta information about the dataset\n",
    "df.info()"
   ]
  },
  {
   "cell_type": "code",
   "execution_count": 215,
   "id": "999bf22e-ef46-4554-a389-5c6f30ef0df2",
   "metadata": {},
   "outputs": [],
   "source": [
    "#Label encoding for encoding categorical data\n",
    "from sklearn.preprocessing import LabelEncoder\n",
    "label_encoder= LabelEncoder()\n",
    "df[\"date\"] = label_encoder.fit_transform(df['date'])\n",
    "df[\"quarter\"] = label_encoder.fit_transform(df['quarter'])\n",
    "df[\"department\"] = label_encoder.fit_transform(df['department'])\n",
    "df[\"day\"] = label_encoder.fit_transform(df['day'])"
   ]
  },
  {
   "cell_type": "markdown",
   "id": "32772731-ca1e-4232-91f1-fdbe55553078",
   "metadata": {},
   "source": [
    "I've used label encoder to ecode the categorical value features in the dataset since machine learning models don't accept the raw categorical data. "
   ]
  },
  {
   "cell_type": "code",
   "execution_count": 216,
   "id": "32dd4db9-184e-44e1-953b-7de7ec483808",
   "metadata": {},
   "outputs": [],
   "source": [
    "# Scaling the data to get better performance from the models\n",
    "from sklearn.preprocessing import StandardScaler\n",
    "scaler = StandardScaler()\n",
    "df_scaled = scaler.fit_transform(df)"
   ]
  },
  {
   "cell_type": "markdown",
   "id": "3e409c33-7656-4d36-ad9b-b5157668bb0d",
   "metadata": {},
   "source": [
    "Here I scale the values for the purpose of getting better performance from the models. I have used a standard scaler as it handles outliers effectively and preserves the shape of the distribution. "
   ]
  },
  {
   "cell_type": "code",
   "execution_count": 217,
   "id": "8e3fa8fb-b50b-4a4e-a06a-fc544fa14837",
   "metadata": {},
   "outputs": [
    {
     "name": "stdout",
     "output_type": "stream",
     "text": [
      "Train shape:  (801, 14)\n",
      "Test shape:  (396, 14)\n"
     ]
    }
   ],
   "source": [
    "# Splitting data into training and test sets\n",
    "from sklearn.model_selection import train_test_split\n",
    "X_train, X_test, y_train, y_test = train_test_split(df_scaled[:,0:-1], df_scaled[:,-1], test_size=0.33, random_state=42)\n",
    "print(\"Train shape: \",X_train.shape)\n",
    "print(\"Test shape: \",X_test.shape)"
   ]
  },
  {
   "cell_type": "markdown",
   "id": "82500d63-fa60-44ca-9593-1c9036015bdb",
   "metadata": {},
   "source": [
    "I have used a 33% test data split here as I deemed that it was appropriate for the size of the dataset having over a 1000 instances. "
   ]
  },
  {
   "cell_type": "markdown",
   "id": "284b9914-9353-4686-b36d-1a413bb62503",
   "metadata": {},
   "source": [
    "##### Elastic net Model"
   ]
  },
  {
   "cell_type": "markdown",
   "id": "b738ff47-3697-4456-bc3d-b83a990bde1b",
   "metadata": {},
   "source": [
    "Hyperparameter tuning "
   ]
  },
  {
   "cell_type": "code",
   "execution_count": 218,
   "id": "30c8df74-a78e-49c4-94b9-2be3b2bf3c51",
   "metadata": {},
   "outputs": [
    {
     "name": "stdout",
     "output_type": "stream",
     "text": [
      "Best alpha: 0.1\n",
      "Best l1_ratio: 0.1\n",
      "Best score: 0.2402477811431286\n"
     ]
    }
   ],
   "source": [
    "from sklearn.model_selection import GridSearchCV\n",
    "\n",
    "elastic_net = ElasticNet()\n",
    "\n",
    "# Define the parameter grid for grid search\n",
    "param_grid = {'alpha': [0.1, 1.0, 10.0],\n",
    "              'l1_ratio': [0.1, 0.5, 0.9]}\n",
    "\n",
    "# Perform grid search with cross-validation\n",
    "grid_search = GridSearchCV(elastic_net, param_grid, cv=3)\n",
    "grid_search.fit(X_train, y_train)\n",
    "\n",
    "# Print the best hyperparameters and best score\n",
    "print(\"Best alpha:\", grid_search.best_params_['alpha'])\n",
    "print(\"Best l1_ratio:\", grid_search.best_params_['l1_ratio'])\n",
    "print(\"Best score:\", grid_search.best_score_)"
   ]
  },
  {
   "cell_type": "markdown",
   "id": "62007afe-d254-48af-bfc6-947f6c4bd717",
   "metadata": {},
   "source": [
    "Here I have used grid search to tune the 'alpha' and 'l1_ratio' of the model. \n",
    "* Alpha : It determines the strenght of the regularization. \n",
    "\n",
    "* L1 ratio: Since it balances the contributions of the L1 and L2 penatlies for regularization, it was necessary to tune it."
   ]
  },
  {
   "cell_type": "markdown",
   "id": "a416b826-5fd6-45a5-9b80-672dc209e52b",
   "metadata": {},
   "source": [
    "Fitting the Model"
   ]
  },
  {
   "cell_type": "code",
   "execution_count": 221,
   "id": "ec973ebb-5c2c-4c4d-ada3-54cbc7fdffbc",
   "metadata": {},
   "outputs": [
    {
     "name": "stdout",
     "output_type": "stream",
     "text": [
      "MAE: 0.7054213847877437\n",
      "MSE: 0.8951170141079247\n",
      "RMSE:0.9461062382776707\n",
      "R2 :  0.1295915039005643\n"
     ]
    }
   ],
   "source": [
    "# fitting and predicting from the model\n",
    "from sklearn.linear_model import ElasticNet\n",
    "\n",
    "elastic_net = ElasticNet(alpha=1.0, l1_ratio=0.1)  \n",
    "\n",
    "# Train the Elastic Net regression model\n",
    "elastic_net.fit(X_train, y_train)\n",
    "ypredicts = elastic_net.predict(X_test)\n",
    "\n",
    "#performance evaluation\n",
    "print (f\"MAE: {metrics.mean_absolute_error(y_test,ypredicts)}\")\n",
    "print (f\"MSE: {metrics.mean_squared_error(y_test,ypredicts)}\")\n",
    "print (f\"RMSE:{np.sqrt(metrics.mean_squared_error(y_test,ypredicts))}\")\n",
    "print (f\"R2 :  {metrics.r2_score(y_test, ypredicts)}\")"
   ]
  },
  {
   "cell_type": "markdown",
   "id": "06abafda-9f74-4156-b560-014e302788d1",
   "metadata": {},
   "source": [
    "Evaluation:\n",
    "* From the MAE and MSE value, it is clear that the model isn't too good at predicting accurately, however it isn't very bad either. \n",
    "* Low R2 value suggests that the selected features may not be capturing the majority of the variation in the target and therefore suggests that this could be the result of underfitting. "
   ]
  },
  {
   "cell_type": "markdown",
   "id": "40613883-320c-4d53-b885-5c170a3ed377",
   "metadata": {},
   "source": [
    "#### Support Vector Regression"
   ]
  },
  {
   "cell_type": "code",
   "execution_count": 57,
   "id": "648f4893-8f45-44ed-81c8-c445c9fc4128",
   "metadata": {},
   "outputs": [
    {
     "name": "stdout",
     "output_type": "stream",
     "text": [
      "Best C: 10\n",
      "Best gamma: 0.1\n",
      "Best score: 0.38775747638352814\n"
     ]
    }
   ],
   "source": [
    "#Hyperparameter tuning\n",
    "\n",
    "from sklearn.svm import SVR\n",
    "import numpy as np\n",
    "svr = SVR(kernel='rbf')\n",
    "\n",
    "# Define the parameter grid for grid search\n",
    "param_grid = {'C': [0.1, 1, 10], 'gamma': [0.1, 1, 10]}\n",
    "\n",
    "# Perform grid search with cross-validation\n",
    "grid_search = GridSearchCV(svr, param_grid, cv=3)\n",
    "grid_search.fit(X_train, y_train)\n",
    "\n",
    "# Print the best hyperparameters and best score\n",
    "print(\"Best C:\", grid_search.best_params_['C'])\n",
    "print(\"Best gamma:\", grid_search.best_params_['gamma'])\n",
    "print(\"Best score:\", grid_search.best_score_)"
   ]
  },
  {
   "cell_type": "markdown",
   "id": "4b9f399d-c9f8-445c-a1e0-aa8d482706ec",
   "metadata": {},
   "source": [
    "Here I have chosen C and gamma values to tune because they are crucial for controlling the trade off between model complexity and error minimisation. \n",
    "\n",
    "I also chose RBF kernel here to account for non-linearity among the features and the target.  "
   ]
  },
  {
   "cell_type": "code",
   "execution_count": 60,
   "id": "c43a4c90-a418-47ce-a19b-b025f5c9bbb8",
   "metadata": {},
   "outputs": [
    {
     "name": "stdout",
     "output_type": "stream",
     "text": [
      "MAE: 0.5045727634496237\n",
      "MSE: 0.6224019054472995\n",
      "RMSE:0.7889245245568802\n",
      "R2 :  0.39477867368021136\n"
     ]
    }
   ],
   "source": [
    "# Fitting and predicting\n",
    "from sklearn.svm import SVR\n",
    "import numpy as np\n",
    "svr = SVR(kernel='rbf', C=10, gamma=0.1)\n",
    "\n",
    "# Train the SVR model\n",
    "svr.fit(X_train, y_train)\n",
    "ypredicts = svr.predict(X_test)\n",
    "\n",
    "# Performance evaluation\n",
    "print (f\"MAE: {metrics.mean_absolute_error(y_test,ypredicts)}\")\n",
    "print (f\"MSE: {metrics.mean_squared_error(y_test,ypredicts)}\")\n",
    "print (f\"RMSE:{np.sqrt(metrics.mean_squared_error(y_test,ypredicts))}\")\n",
    "print (f\"R2 :  {metrics.r2_score(y_test, ypredicts)}\")"
   ]
  },
  {
   "cell_type": "markdown",
   "id": "56a92861-6d3a-4736-8125-c6590bd21081",
   "metadata": {},
   "source": [
    "Evaluation: \n",
    "* Here the MSE, RMSE and R2 values indicate that the model performs better than the previous elastic net model. \n",
    "\n",
    "The chances that the result here suffers from underfitting or overfitting seem to be low as both the parameters C and gamma that controls the model complexity was optimized before building the model. "
   ]
  },
  {
   "cell_type": "markdown",
   "id": "1fe3008a-733a-4986-ae09-1c43e2b24dfd",
   "metadata": {},
   "source": [
    "#### K Nearest Neighbours Model"
   ]
  },
  {
   "cell_type": "code",
   "execution_count": 67,
   "id": "85fff854-6b29-4eda-9a6c-e40e9d3e4b78",
   "metadata": {},
   "outputs": [
    {
     "name": "stdout",
     "output_type": "stream",
     "text": [
      "Best n_neighbors: 10\n",
      "Best score: 0.2989426676298221\n"
     ]
    }
   ],
   "source": [
    "#hyperparameter Tuning\n",
    "knn = KNeighborsRegressor()\n",
    "\n",
    "# Define the parameter grid for grid search\n",
    "param_grid = {'n_neighbors': range(1,20)}\n",
    "\n",
    "# Perform grid search with cross-validation\n",
    "grid_search = GridSearchCV(knn, param_grid, cv=3)\n",
    "grid_search.fit(X_train, y_train)\n",
    "\n",
    "# Print the best hyperparameter and best score\n",
    "print(\"Best n_neighbors:\", grid_search.best_params_['n_neighbors'])\n",
    "print(\"Best score:\", grid_search.best_score_)"
   ]
  },
  {
   "cell_type": "markdown",
   "id": "fd07f790-d9e6-4625-81d4-f11f3fd87d45",
   "metadata": {},
   "source": [
    "Here I have chosen the n_neighbors parameters to be tuned as this directly affects model complexity and the smoothness."
   ]
  },
  {
   "cell_type": "code",
   "execution_count": 71,
   "id": "4778fc83-5a32-4219-81f1-69d63a8aa053",
   "metadata": {},
   "outputs": [
    {
     "name": "stdout",
     "output_type": "stream",
     "text": [
      "MAE: 0.5989265343480328\n",
      "MSE: 0.7416718396763484\n",
      "RMSE:0.861203715549549\n",
      "R2 :  0.27880102780153715\n"
     ]
    }
   ],
   "source": [
    "# fitting and predicting\n",
    "from sklearn.neighbors import KNeighborsRegressor\n",
    "knn = KNeighborsRegressor(n_neighbors=10)\n",
    "knn.fit(X_train, y_train)\n",
    "ypredicts = knn.predict(X_test)\n",
    "\n",
    "#performance\n",
    "print (f\"MAE: {metrics.mean_absolute_error(y_test,ypredicts)}\")\n",
    "print (f\"MSE: {metrics.mean_squared_error(y_test,ypredicts)}\")\n",
    "print (f\"RMSE:{np.sqrt(metrics.mean_squared_error(y_test,ypredicts))}\")\n",
    "print (f\"R2 :  {metrics.r2_score(y_test, ypredicts)}\")"
   ]
  },
  {
   "cell_type": "markdown",
   "id": "dc58b6a8-8a0d-4885-866f-4eb4a7dfdaf3",
   "metadata": {},
   "source": [
    "Here the values indicate that the model performs worse than the SVR model despite tuning for model coomplexity. This could be the result of the fact that SVR can handle higher dimensional featuer spaces and is overall better at generalisation. \n",
    "\n",
    "Here the low R2 value might indicate that the result is slighly underfitted. "
   ]
  },
  {
   "cell_type": "markdown",
   "id": "4aae3d36-c607-4f81-b63d-87a3faa75cd3",
   "metadata": {},
   "source": [
    "Based on all of the reported results of all the models built and fit so far, the best one would be to use Support vector regressor model to fit the data and predict the value for the actual productivity as it is considerably superior to the other models in terms of performance and simplicity. "
   ]
  },
  {
   "cell_type": "markdown",
   "id": "c99eaf8a-0b17-4734-bded-8baf5172398a",
   "metadata": {},
   "source": [
    "#### Importance of Features"
   ]
  },
  {
   "cell_type": "markdown",
   "id": "e2592a6f-d244-474e-828d-5b54c052c109",
   "metadata": {},
   "source": [
    "Correlation"
   ]
  },
  {
   "cell_type": "code",
   "execution_count": 175,
   "id": "7af29f5a-04b3-47d6-bcc5-5a098ad13237",
   "metadata": {},
   "outputs": [
    {
     "name": "stdout",
     "output_type": "stream",
     "text": [
      "The most important features in order (correlation):\n",
      "smv : Correlation coefficient 0.4215938837001506 \n",
      "no_of_workers : Correlation coefficient 0.20736560728146408 \n",
      "no_of_style_change : Correlation coefficient 0.18173432643347642 \n",
      "targeted_productivity : Correlation coefficient 0.14875331064277691 \n",
      "wip : Correlation coefficient 0.12208884072558175 \n",
      "over_time : Correlation coefficient 0.08836460876924797 \n",
      "idle_men : Correlation coefficient 0.08085080966234469 \n",
      "idle_time : Correlation coefficient 0.07653762727386515 \n",
      "quarter : Correlation coefficient 0.06195385061330703 \n",
      "actual_productivity : Correlation coefficient 0.057990592243546066 \n",
      "incentive : Correlation coefficient 0.054205837140021425 \n",
      "department : Correlation coefficient 0.051969912273530885 \n",
      "day : Correlation coefficient 0.03564749198579598 \n",
      "team : Correlation coefficient 0.015689890955181057 \n"
     ]
    }
   ],
   "source": [
    "X=df_scaled[:,0:-1]\n",
    "y=df_scaled[:,-1]\n",
    "num_features = X.shape[1]\n",
    "\n",
    "# Calculate the correlation coefficient for each feature\n",
    "correlation_coeffs = []\n",
    "for i in range(num_features):\n",
    "    correlation_coeff = np.corrcoef(X[:,i], y)\n",
    "    correlation_coeffs.append(correlation_coeff[1,0])\n",
    "\n",
    "sorted_corr_coeffs, sorted_features = zip(*sorted(zip(np.abs(correlation_coeffs), range(1, num_features+1))))\n",
    "# Print the correlation coefficients for each feature\n",
    "print(f\"The most important features in order (correlation):\")\n",
    "for i in range(num_features-1,-1,-1):\n",
    "    print(f\"{df.columns[sorted_features[i]]} : Correlation coefficient {sorted_corr_coeffs[i]} \")\n",
    "    {sorted_features[i]}"
   ]
  },
  {
   "cell_type": "markdown",
   "id": "47967ec1-db7b-44db-97a2-f1d2af777b89",
   "metadata": {},
   "source": [
    "##### Feature importance via coefficient analysis from the elastic net model "
   ]
  },
  {
   "cell_type": "code",
   "execution_count": 177,
   "id": "e20be677-469f-4b3e-9098-e9a6b62b0dcd",
   "metadata": {},
   "outputs": [
    {
     "data": {
      "image/png": "[encoded data removed]",
      "text/plain": [
       "<Figure size 600x400 with 1 Axes>"
      ]
     },
     "metadata": {},
     "output_type": "display_data"
    }
   ],
   "source": [
    "feature_importance = np.abs(elastic_net.coef_)\n",
    "\n",
    "# Sort the feature importance and their corresponding features\n",
    "sorted_features = [f\"{df.columns[i+1]}\" for i in np.argsort(feature_importance)[::-1]]\n",
    "sorted_importance = np.sort(feature_importance)[::-1]\n",
    "\n",
    "# Plot the features against the target\n",
    "plt.figure(figsize=(6, 4))\n",
    "plt.bar(sorted_features, sorted_importance)\n",
    "plt.xlabel(\"Features\")\n",
    "plt.ylabel(\"Feature Importance\")\n",
    "plt.title(\"Feature Importance in Elastic Net Regression\")\n",
    "plt.xticks(rotation=80)\n",
    "plt.show()"
   ]
  },
  {
   "cell_type": "markdown",
   "id": "517b7f0a-e316-4922-abe9-befe13f9b4aa",
   "metadata": {},
   "source": [
    "There seems to be only 5 considerably contributing features from the plot and the correlation values. \n",
    "Reason: \n",
    "* Since smv is the direct measurement of the time required for a qualified worker working at “Standard Performance” to perform a given task, it only makes sense that it is the most important feature here to measure actual productivity. \n",
    "* Targeted productivity would affect the actual productivity to a considerable amount due to psychological intentions to hit the target. \n",
    "* Number of workers would directly affect productivity naturally.\n",
    "* Wip and no of style changes would slow down work and therefore would affect productivity to a considerable amount as well. \n",
    "\n",
    "The only difference between the correlation values and the plot is that trageted productivity seem to be less correlated than that assumed by the coefficients of the elastic net model. The top 5 most influencial features remain the same. "
   ]
  },
  {
   "cell_type": "markdown",
   "id": "e36ffeae-95a7-47bb-b709-2ebdaa347fe3",
   "metadata": {},
   "source": [
    "#### Ensemble Model (Random Forest)"
   ]
  },
  {
   "cell_type": "code",
   "execution_count": 197,
   "id": "5f3c9821-f099-4571-a522-f94d893f635b",
   "metadata": {},
   "outputs": [
    {
     "name": "stdout",
     "output_type": "stream",
     "text": [
      "Best n_estimators: 150\n",
      "Best max_depth: 13\n"
     ]
    }
   ],
   "source": [
    "#hyperparameter Tuning\n",
    "from sklearn.model_selection import GridSearchCV\n",
    "from sklearn.ensemble import RandomForestRegressor\n",
    "# Create a RandomForestClassifier\n",
    "rf_clf = RandomForestRegressor()\n",
    "\n",
    "# Define the parameter grid for grid search\n",
    "param_grid = {\n",
    "    'n_estimators': [50,100,150,200], 'max_depth': range(1,20)  # Define the values to be tested\n",
    "}\n",
    "\n",
    "# Perform grid search with cross-validation\n",
    "grid_search = GridSearchCV(rf_clf, param_grid, cv=5)\n",
    "grid_search.fit(X_train, y_train)\n",
    "\n",
    "# Get the best parameter values and score\n",
    "best_n_estimators = grid_search.best_params_['n_estimators']\n",
    "best_max_depth = grid_search.best_params_['max_depth']\n",
    "\n",
    "print(\"Best n_estimators:\", best_n_estimators)\n",
    "print(\"Best max_depth:\", best_max_depth)"
   ]
  },
  {
   "cell_type": "code",
   "execution_count": 206,
   "id": "b158aeb2-852f-40cd-bf0d-1e73e102fa4d",
   "metadata": {},
   "outputs": [
    {
     "name": "stdout",
     "output_type": "stream",
     "text": [
      "MAE: 0.47708213729312937\n",
      "MSE: 0.5995788349703254\n",
      "RMSE:0.774324760659457\n",
      "R2 :  0.4169717435661997\n"
     ]
    }
   ],
   "source": [
    "#fitting and predicting\n",
    "rf_r = RandomForestRegressor(n_estimators=150, max_depth=13)\n",
    "rf_r.fit(X_train, y_train)\n",
    "pred = rf_r.predict(X_test)\n",
    "\n",
    "# performance\n",
    "print (f\"MAE: {metrics.mean_absolute_error(y_test,pred)}\")\n",
    "print (f\"MSE: {metrics.mean_squared_error(y_test,pred)}\")\n",
    "print (f\"RMSE:{np.sqrt(metrics.mean_squared_error(y_test,pred))}\")\n",
    "print (f\"R2 :  {metrics.r2_score(y_test, pred)}\")"
   ]
  },
  {
   "cell_type": "markdown",
   "id": "ebe76341-b292-433d-be43-480b8b460f97",
   "metadata": {},
   "source": [
    "From the results, it is clear that this model outperforms all the previous ones as it shows lower values for the MSE and RMSE metrics and the highest value for the R2 metric. \n",
    "\n",
    "Main reasons: \n",
    "* The model is robust against outliers and noise. \n",
    "* Random forest can provide estimates of feature importance, the features with the most influence are considered. \n",
    "* Predictive accuracy is increased since combining multiple models reduce risk of overfitting and variance. \n",
    "* Can handle high dimensional feature spaces without need for dimensionality reduction techniques. "
   ]
  },
  {
   "cell_type": "code",
   "execution_count": 1,
   "id": "b08f4774",
   "metadata": {},
   "outputs": [
    {
     "name": "stdout",
     "output_type": "stream",
     "text": [
      "Model performance metrics have been saved to model_performance_results.csv\n"
     ]
    },
    {
     "name": "stderr",
     "output_type": "stream",
     "text": [
      "C:\\Users\\User\\AppData\\Local\\Temp\\ipykernel_11324\\1590009192.py:1: DeprecationWarning: \n",
      "Pyarrow will become a required dependency of pandas in the next major release of pandas (pandas 3.0),\n",
      "(to allow more performant data types, such as the Arrow string type, and better interoperability with other libraries)\n",
      "but was not found to be installed on your system.\n",
      "If this would cause problems for you,\n",
      "please provide us feedback at https://github.com/pandas-dev/pandas/issues/54466\n",
      "        \n",
      "  import pandas as pd\n"
     ]
    }
   ],
   "source": [
    "import pandas as pd\n",
    "\n",
    "# Define model names and their respective performance metrics\n",
    "data = {\n",
    "    'Model': ['Elastic Net', 'Support Vector Regression', 'K-Nearest Neighbors', 'Random Forest'],\n",
    "    'MAE': [0.705, 0.505, 0.599, 0.477],\n",
    "    'MSE': [0.895, 0.622, 0.742, 0.600],\n",
    "    'RMSE': [0.946, 0.789, 0.861, 0.774],\n",
    "    'R2': [0.130, 0.395, 0.279, 0.417]\n",
    "}\n",
    "\n",
    "# Create a DataFrame\n",
    "results_df = pd.DataFrame(data)\n",
    "\n",
    "# Export to CSV\n",
    "results_file_path = 'model_performance_results.csv'\n",
    "results_df.to_csv(results_file_path, index=False)\n",
    "\n",
    "print(f\"Model performance metrics have been saved to {results_file_path}\")\n"
   ]
  },
  {
   "cell_type": "code",
   "execution_count": null,
   "id": "3c3a0b1f",
   "metadata": {},
   "outputs": [],
   "source": []
  }
 ],
 "metadata": {
  "kernelspec": {
   "display_name": "Python 3 (ipykernel)",
   "language": "python",
   "name": "python3"
  },
  "language_info": {
   "codemirror_mode": {
    "name": "ipython",
    "version": 3
   },
   "file_extension": ".py",
   "mimetype": "text/x-python",
   "name": "python",
   "nbconvert_exporter": "python",
   "pygments_lexer": "ipython3",
   "version": "3.10.12"
  }
 },
 "nbformat": 4,
 "nbformat_minor": 5
}
